{
 "cells": [
  {
   "cell_type": "markdown",
   "metadata": {},
   "source": [
    "# Data Series Analysis of USDBRL and USDCNH\n",
    "\n",
    "The data for the two series comes from the FRED database. After retrieving the data for the last 5 years, we merge it into one single dataframe and compute the log returns. \n",
    "Then, we plot the two series with scatter plot and draw the linear regression and write the equation to see if there \n",
    "is explanatory power into on currency or the other.\n",
    "Finally we compute the Beta of the two currencies to see the hedge ratio in case of a pair trade."
   ]
  },
  {
   "cell_type": "code",
   "execution_count": 87,
   "metadata": {},
   "outputs": [],
   "source": [
    "import datetime as dt\n",
    "import matplotlib.pyplot as plt\n",
    "from matplotlib import style\n",
    "import numpy as np\n",
    "import pandas as pd\n",
    "import pandas_datareader.data as web\n",
    "import seaborn as sns\n",
    "from sklearn.linear_model import LinearRegression\n",
    "style.use('ggplot')"
   ]
  },
  {
   "cell_type": "code",
   "execution_count": 88,
   "metadata": {},
   "outputs": [],
   "source": [
    "start = dt.datetime(2015,1,4)\n",
    "end = dt.datetime(2020,12,31)"
   ]
  },
  {
   "cell_type": "code",
   "execution_count": 89,
   "metadata": {},
   "outputs": [],
   "source": [
    "df1 = web.DataReader('DEXBZUS', 'fred', start, end)\n",
    "df2 = web.DataReader('DEXCHUS', 'fred', start, end)"
   ]
  },
  {
   "cell_type": "code",
   "execution_count": 90,
   "metadata": {},
   "outputs": [],
   "source": [
    "df1.to_csv('DEXBZUS.csv')\n",
    "df2.to_csv('DEXCHUS.csv')"
   ]
  },
  {
   "cell_type": "code",
   "execution_count": 91,
   "metadata": {},
   "outputs": [],
   "source": [
    "df1 = pd.read_csv('DEXBZUS.csv', parse_dates=True, index_col=0)\n",
    "df2 = pd.read_csv('DEXCHUS.csv', parse_dates=True, index_col=0)\n",
    "df = pd.merge(df1, df2, on='DATE', how='outer')"
   ]
  },
  {
   "cell_type": "code",
   "execution_count": 92,
   "metadata": {},
   "outputs": [
    {
     "name": "stdout",
     "output_type": "stream",
     "text": [
      "            DEXBZUS  DEXCHUS\n",
      "DATE                        \n",
      "2015-01-05   2.7284   6.2201\n",
      "2015-01-06   2.7013   6.2125\n",
      "2015-01-07   2.7000   6.2127\n",
      "2015-01-08   2.6635   6.2143\n",
      "2015-01-09   2.6375   6.2085\n"
     ]
    },
    {
     "data": {
      "text/plain": [
       "<matplotlib.axes._subplots.AxesSubplot at 0x22993f4cc88>"
      ]
     },
     "execution_count": 92,
     "metadata": {},
     "output_type": "execute_result"
    },
    {
     "data": {
      "image/png": "[encoded data removed]",
      "text/plain": [
       "<Figure size 432x288 with 1 Axes>"
      ]
     },
     "metadata": {},
     "output_type": "display_data"
    }
   ],
   "source": [
    "print(df.head())\n",
    "df.plot()"
   ]
  },
  {
   "cell_type": "code",
   "execution_count": 93,
   "metadata": {},
   "outputs": [],
   "source": [
    "df['BZUS_RET'] = np.log(df['DEXBZUS'] / df['DEXBZUS'].shift(1))\n",
    "df['CHUS_RET'] = np.log(df['DEXCHUS'] / df['DEXCHUS'].shift(1))"
   ]
  },
  {
   "cell_type": "code",
   "execution_count": 126,
   "metadata": {
    "scrolled": true
   },
   "outputs": [
    {
     "data": {
      "text/html": [
       "<div>\n",
       "<style scoped>\n",
       "    .dataframe tbody tr th:only-of-type {\n",
       "        vertical-align: middle;\n",
       "    }\n",
       "\n",
       "    .dataframe tbody tr th {\n",
       "        vertical-align: top;\n",
       "    }\n",
       "\n",
       "    .dataframe thead th {\n",
       "        text-align: right;\n",
       "    }\n",
       "</style>\n",
       "<table border=\"1\" class=\"dataframe\">\n",
       "  <thead>\n",
       "    <tr style=\"text-align: right;\">\n",
       "      <th></th>\n",
       "      <th>DEXBZUS</th>\n",
       "      <th>DEXCHUS</th>\n",
       "      <th>BZUS_RET</th>\n",
       "      <th>CHUS_RET</th>\n",
       "    </tr>\n",
       "    <tr>\n",
       "      <th>DATE</th>\n",
       "      <th></th>\n",
       "      <th></th>\n",
       "      <th></th>\n",
       "      <th></th>\n",
       "    </tr>\n",
       "  </thead>\n",
       "  <tbody>\n",
       "    <tr>\n",
       "      <td>2015-01-05</td>\n",
       "      <td>2.7284</td>\n",
       "      <td>6.2201</td>\n",
       "      <td>0.000000</td>\n",
       "      <td>0.000000</td>\n",
       "    </tr>\n",
       "    <tr>\n",
       "      <td>2015-01-06</td>\n",
       "      <td>2.7013</td>\n",
       "      <td>6.2125</td>\n",
       "      <td>-0.009982</td>\n",
       "      <td>-0.001223</td>\n",
       "    </tr>\n",
       "    <tr>\n",
       "      <td>2015-01-07</td>\n",
       "      <td>2.7000</td>\n",
       "      <td>6.2127</td>\n",
       "      <td>-0.000481</td>\n",
       "      <td>0.000032</td>\n",
       "    </tr>\n",
       "    <tr>\n",
       "      <td>2015-01-08</td>\n",
       "      <td>2.6635</td>\n",
       "      <td>6.2143</td>\n",
       "      <td>-0.013611</td>\n",
       "      <td>0.000258</td>\n",
       "    </tr>\n",
       "    <tr>\n",
       "      <td>2015-01-09</td>\n",
       "      <td>2.6375</td>\n",
       "      <td>6.2085</td>\n",
       "      <td>-0.009810</td>\n",
       "      <td>-0.000934</td>\n",
       "    </tr>\n",
       "    <tr>\n",
       "      <td>...</td>\n",
       "      <td>...</td>\n",
       "      <td>...</td>\n",
       "      <td>...</td>\n",
       "      <td>...</td>\n",
       "    </tr>\n",
       "    <tr>\n",
       "      <td>2020-01-06</td>\n",
       "      <td>4.0548</td>\n",
       "      <td>6.9749</td>\n",
       "      <td>0.004201</td>\n",
       "      <td>0.001435</td>\n",
       "    </tr>\n",
       "    <tr>\n",
       "      <td>2020-01-07</td>\n",
       "      <td>4.0813</td>\n",
       "      <td>6.9443</td>\n",
       "      <td>0.006514</td>\n",
       "      <td>-0.004397</td>\n",
       "    </tr>\n",
       "    <tr>\n",
       "      <td>2020-01-08</td>\n",
       "      <td>4.0463</td>\n",
       "      <td>6.9447</td>\n",
       "      <td>-0.008613</td>\n",
       "      <td>0.000058</td>\n",
       "    </tr>\n",
       "    <tr>\n",
       "      <td>2020-01-09</td>\n",
       "      <td>4.0747</td>\n",
       "      <td>6.9309</td>\n",
       "      <td>0.006994</td>\n",
       "      <td>-0.001989</td>\n",
       "    </tr>\n",
       "    <tr>\n",
       "      <td>2020-01-10</td>\n",
       "      <td>4.0771</td>\n",
       "      <td>6.9178</td>\n",
       "      <td>0.000589</td>\n",
       "      <td>-0.001892</td>\n",
       "    </tr>\n",
       "  </tbody>\n",
       "</table>\n",
       "<p>1310 rows × 4 columns</p>\n",
       "</div>"
      ],
      "text/plain": [
       "            DEXBZUS  DEXCHUS  BZUS_RET  CHUS_RET\n",
       "DATE                                            \n",
       "2015-01-05   2.7284   6.2201  0.000000  0.000000\n",
       "2015-01-06   2.7013   6.2125 -0.009982 -0.001223\n",
       "2015-01-07   2.7000   6.2127 -0.000481  0.000032\n",
       "2015-01-08   2.6635   6.2143 -0.013611  0.000258\n",
       "2015-01-09   2.6375   6.2085 -0.009810 -0.000934\n",
       "...             ...      ...       ...       ...\n",
       "2020-01-06   4.0548   6.9749  0.004201  0.001435\n",
       "2020-01-07   4.0813   6.9443  0.006514 -0.004397\n",
       "2020-01-08   4.0463   6.9447 -0.008613  0.000058\n",
       "2020-01-09   4.0747   6.9309  0.006994 -0.001989\n",
       "2020-01-10   4.0771   6.9178  0.000589 -0.001892\n",
       "\n",
       "[1310 rows x 4 columns]"
      ]
     },
     "execution_count": 126,
     "metadata": {},
     "output_type": "execute_result"
    }
   ],
   "source": [
    "df.fillna(0)"
   ]
  },
  {
   "cell_type": "code",
   "execution_count": 95,
   "metadata": {
    "scrolled": false
   },
   "outputs": [
    {
     "data": {
      "image/png": "[encoded data removed]",
      "text/plain": [
       "<Figure size 360x360 with 1 Axes>"
      ]
     },
     "metadata": {},
     "output_type": "display_data"
    }
   ],
   "source": [
    "sns.lmplot(x='CHUS_RET',y='BZUS_RET',data=df)\n",
    "fit_reg=True\n",
    "hue='index'"
   ]
  },
  {
   "cell_type": "code",
   "execution_count": 129,
   "metadata": {
    "scrolled": true
   },
   "outputs": [
    {
     "name": "stdout",
     "output_type": "stream",
     "text": [
      "Intercept    0.000106\n",
      "CHUS_RET     0.928468\n",
      "dtype: float64\n",
      "                            OLS Regression Results                            \n",
      "==============================================================================\n",
      "Dep. Variable:               BZUS_RET   R-squared:                       0.044\n",
      "Model:                            OLS   Adj. R-squared:                  0.043\n",
      "Method:                 Least Squares   F-statistic:                     55.02\n",
      "Date:                Sat, 18 Jan 2020   Prob (F-statistic):           2.26e-13\n",
      "Time:                        19:52:16   Log-Likelihood:                 3854.2\n",
      "No. Observations:                1200   AIC:                            -7704.\n",
      "Df Residuals:                    1198   BIC:                            -7694.\n",
      "Df Model:                           1                                         \n",
      "Covariance Type:            nonrobust                                         \n",
      "==============================================================================\n",
      "                 coef    std err          t      P>|t|      [0.025      0.975]\n",
      "------------------------------------------------------------------------------\n",
      "Intercept      0.0001      0.000      0.377      0.706      -0.000       0.001\n",
      "CHUS_RET       0.9285      0.125      7.417      0.000       0.683       1.174\n",
      "==============================================================================\n",
      "Omnibus:                      195.241   Durbin-Watson:                   2.080\n",
      "Prob(Omnibus):                  0.000   Jarque-Bera (JB):             2248.123\n",
      "Skew:                           0.350   Prob(JB):                         0.00\n",
      "Kurtosis:                       9.669   Cond. No.                         444.\n",
      "==============================================================================\n",
      "\n",
      "Warnings:\n",
      "[1] Standard Errors assume that the covariance matrix of the errors is correctly specified.\n"
     ]
    }
   ],
   "source": [
    "import statsmodels.formula.api as sm\n",
    "result = sm.ols(formula='BZUS_RET ~ CHUS_RET', data=df).fit()\n",
    "print(result.params)\n",
    "print(result.summary())\n",
    "\n",
    "#R sq. of 0.04 means there is no explanatory power into the linear regression :("
   ]
  },
  {
   "cell_type": "code",
   "execution_count": 127,
   "metadata": {},
   "outputs": [
    {
     "data": {
      "text/plain": [
       "4.7723469503105385"
      ]
     },
     "execution_count": 127,
     "metadata": {},
     "output_type": "execute_result"
    }
   ],
   "source": [
    "#Compute Beta as ( Std1 * Std2) / Cov12\n",
    "( df['BZUS_RET'].std() * df['CHUS_RET'].std() ) / df['BZUS_RET'].cov(df['CHUS_RET'])"
   ]
  },
  {
   "cell_type": "code",
   "execution_count": 128,
   "metadata": {},
   "outputs": [],
   "source": [
    "#So for each unit of BRL we trade, we need 4.77 times the amount of CNH to get the same exposure"
   ]
  }
 ],
 "metadata": {
  "kernelspec": {
   "display_name": "Python 3",
   "language": "python",
   "name": "python3"
  },
  "language_info": {
   "codemirror_mode": {
    "name": "ipython",
    "version": 3
   },
   "file_extension": ".py",
   "mimetype": "text/x-python",
   "name": "python",
   "nbconvert_exporter": "python",
   "pygments_lexer": "ipython3",
   "version": "3.7.4"
  }
 },
 "nbformat": 4,
 "nbformat_minor": 2
}
