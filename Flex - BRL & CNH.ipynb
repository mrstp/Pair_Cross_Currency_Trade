{
 "cells": [
  {
   "cell_type": "markdown",
   "metadata": {},
   "source": [
    "# Data Series Analysis of USDBRL and USDCNH\n",
    "\n",
    "The data for the two series comes from the FRED database. After retrieving the data for the last 5 years, we merge it into one single dataframe and compute the log returns. \n",
    "Then, we plot the two series with scatter plot and draw the linear regression and write the equation to see if there \n",
    "is explanatory power into on currency or the other.\n",
    "Finally we compute the Beta of the two currencies to see the hedge ratio in case of a pair trade."
   ]
  },
  {
   "cell_type": "code",
   "execution_count": 2,
   "metadata": {},
   "outputs": [],
   "source": [
    "import datetime as dt\n",
    "import matplotlib.pyplot as plt\n",
    "from matplotlib import style\n",
    "import numpy as np\n",
    "import pandas as pd\n",
    "import pandas_datareader.data as web\n",
    "import seaborn as sns\n",
    "from sklearn.linear_model import LinearRegression\n",
    "style.use('ggplot')"
   ]
  },
  {
   "cell_type": "code",
   "execution_count": 3,
   "metadata": {},
   "outputs": [],
   "source": [
    "start = dt.datetime(2018,1,4)\n",
    "end = dt.datetime(2020,12,31)"
   ]
  },
  {
   "cell_type": "markdown",
   "metadata": {},
   "source": [
    "Import data from FRED"
   ]
  },
  {
   "cell_type": "code",
   "execution_count": 4,
   "metadata": {},
   "outputs": [],
   "source": [
    "df1 = web.DataReader('DEXBZUS', 'fred', start, end)\n",
    "df2 = web.DataReader('DEXCHUS', 'fred', start, end)"
   ]
  },
  {
   "cell_type": "markdown",
   "metadata": {},
   "source": [
    "Save the series into two csv files"
   ]
  },
  {
   "cell_type": "code",
   "execution_count": 5,
   "metadata": {},
   "outputs": [],
   "source": [
    "df1.to_csv('DEXBZUS.csv')\n",
    "df2.to_csv('DEXCHUS.csv')"
   ]
  },
  {
   "cell_type": "markdown",
   "metadata": {},
   "source": [
    "Open the series from the csv and merge them into one dataframe"
   ]
  },
  {
   "cell_type": "code",
   "execution_count": 6,
   "metadata": {},
   "outputs": [],
   "source": [
    "df1 = pd.read_csv('DEXBZUS.csv', parse_dates=True, index_col=0)\n",
    "df2 = pd.read_csv('DEXCHUS.csv', parse_dates=True, index_col=0)\n",
    "df = pd.merge(df1, df2, on='DATE', how='outer')"
   ]
  },
  {
   "cell_type": "code",
   "execution_count": 7,
   "metadata": {},
   "outputs": [
    {
     "name": "stdout",
     "output_type": "stream",
     "text": [
      "            DEXBZUS  DEXCHUS\n",
      "DATE                        \n",
      "2018-01-04   3.2274   6.4915\n",
      "2018-01-05   3.2285   6.4875\n",
      "2018-01-08   3.2308   6.4970\n",
      "2018-01-09   3.2491   6.5263\n",
      "2018-01-10   3.2363   6.5055\n"
     ]
    },
    {
     "data": {
      "text/plain": [
       "<matplotlib.axes._subplots.AxesSubplot at 0x1c341ace388>"
      ]
     },
     "execution_count": 7,
     "metadata": {},
     "output_type": "execute_result"
    },
    {
     "data": {
      "image/png": "[encoded data removed]",
      "text/plain": [
       "<Figure size 432x288 with 1 Axes>"
      ]
     },
     "metadata": {
      "needs_background": "light"
     },
     "output_type": "display_data"
    }
   ],
   "source": [
    "print(df.head())\n",
    "df.plot()"
   ]
  },
  {
   "cell_type": "markdown",
   "metadata": {},
   "source": [
    "Compute Log returns and save them into a new column or % points "
   ]
  },
  {
   "cell_type": "code",
   "execution_count": 8,
   "metadata": {},
   "outputs": [],
   "source": [
    "df['BZUS_RET'] = np.log(df['DEXBZUS'] / df['DEXBZUS'].shift(1))\n",
    "df['CHUS_RET'] = np.log(df['DEXCHUS'] / df['DEXCHUS'].shift(1))\n",
    "# df['CHUS_RET'] = df['DEXCHUS'].pct_change()"
   ]
  },
  {
   "cell_type": "code",
   "execution_count": 9,
   "metadata": {
    "scrolled": true
   },
   "outputs": [
    {
     "data": {
      "text/html": [
       "<div>\n",
       "<style scoped>\n",
       "    .dataframe tbody tr th:only-of-type {\n",
       "        vertical-align: middle;\n",
       "    }\n",
       "\n",
       "    .dataframe tbody tr th {\n",
       "        vertical-align: top;\n",
       "    }\n",
       "\n",
       "    .dataframe thead th {\n",
       "        text-align: right;\n",
       "    }\n",
       "</style>\n",
       "<table border=\"1\" class=\"dataframe\">\n",
       "  <thead>\n",
       "    <tr style=\"text-align: right;\">\n",
       "      <th></th>\n",
       "      <th>DEXBZUS</th>\n",
       "      <th>DEXCHUS</th>\n",
       "      <th>BZUS_RET</th>\n",
       "      <th>CHUS_RET</th>\n",
       "    </tr>\n",
       "    <tr>\n",
       "      <th>DATE</th>\n",
       "      <th></th>\n",
       "      <th></th>\n",
       "      <th></th>\n",
       "      <th></th>\n",
       "    </tr>\n",
       "  </thead>\n",
       "  <tbody>\n",
       "    <tr>\n",
       "      <td>2018-01-04</td>\n",
       "      <td>3.2274</td>\n",
       "      <td>6.4915</td>\n",
       "      <td>0.000000</td>\n",
       "      <td>0.000000</td>\n",
       "    </tr>\n",
       "    <tr>\n",
       "      <td>2018-01-05</td>\n",
       "      <td>3.2285</td>\n",
       "      <td>6.4875</td>\n",
       "      <td>0.000341</td>\n",
       "      <td>-0.000616</td>\n",
       "    </tr>\n",
       "    <tr>\n",
       "      <td>2018-01-08</td>\n",
       "      <td>3.2308</td>\n",
       "      <td>6.4970</td>\n",
       "      <td>0.000712</td>\n",
       "      <td>0.001463</td>\n",
       "    </tr>\n",
       "    <tr>\n",
       "      <td>2018-01-09</td>\n",
       "      <td>3.2491</td>\n",
       "      <td>6.5263</td>\n",
       "      <td>0.005648</td>\n",
       "      <td>0.004500</td>\n",
       "    </tr>\n",
       "    <tr>\n",
       "      <td>2018-01-10</td>\n",
       "      <td>3.2363</td>\n",
       "      <td>6.5055</td>\n",
       "      <td>-0.003947</td>\n",
       "      <td>-0.003192</td>\n",
       "    </tr>\n",
       "    <tr>\n",
       "      <td>...</td>\n",
       "      <td>...</td>\n",
       "      <td>...</td>\n",
       "      <td>...</td>\n",
       "      <td>...</td>\n",
       "    </tr>\n",
       "    <tr>\n",
       "      <td>2020-01-06</td>\n",
       "      <td>4.0548</td>\n",
       "      <td>6.9749</td>\n",
       "      <td>0.004201</td>\n",
       "      <td>0.001435</td>\n",
       "    </tr>\n",
       "    <tr>\n",
       "      <td>2020-01-07</td>\n",
       "      <td>4.0813</td>\n",
       "      <td>6.9443</td>\n",
       "      <td>0.006514</td>\n",
       "      <td>-0.004397</td>\n",
       "    </tr>\n",
       "    <tr>\n",
       "      <td>2020-01-08</td>\n",
       "      <td>4.0463</td>\n",
       "      <td>6.9447</td>\n",
       "      <td>-0.008613</td>\n",
       "      <td>0.000058</td>\n",
       "    </tr>\n",
       "    <tr>\n",
       "      <td>2020-01-09</td>\n",
       "      <td>4.0747</td>\n",
       "      <td>6.9309</td>\n",
       "      <td>0.006994</td>\n",
       "      <td>-0.001989</td>\n",
       "    </tr>\n",
       "    <tr>\n",
       "      <td>2020-01-10</td>\n",
       "      <td>4.0771</td>\n",
       "      <td>6.9178</td>\n",
       "      <td>0.000589</td>\n",
       "      <td>-0.001892</td>\n",
       "    </tr>\n",
       "  </tbody>\n",
       "</table>\n",
       "<p>527 rows × 4 columns</p>\n",
       "</div>"
      ],
      "text/plain": [
       "            DEXBZUS  DEXCHUS  BZUS_RET  CHUS_RET\n",
       "DATE                                            \n",
       "2018-01-04   3.2274   6.4915  0.000000  0.000000\n",
       "2018-01-05   3.2285   6.4875  0.000341 -0.000616\n",
       "2018-01-08   3.2308   6.4970  0.000712  0.001463\n",
       "2018-01-09   3.2491   6.5263  0.005648  0.004500\n",
       "2018-01-10   3.2363   6.5055 -0.003947 -0.003192\n",
       "...             ...      ...       ...       ...\n",
       "2020-01-06   4.0548   6.9749  0.004201  0.001435\n",
       "2020-01-07   4.0813   6.9443  0.006514 -0.004397\n",
       "2020-01-08   4.0463   6.9447 -0.008613  0.000058\n",
       "2020-01-09   4.0747   6.9309  0.006994 -0.001989\n",
       "2020-01-10   4.0771   6.9178  0.000589 -0.001892\n",
       "\n",
       "[527 rows x 4 columns]"
      ]
     },
     "execution_count": 9,
     "metadata": {},
     "output_type": "execute_result"
    }
   ],
   "source": [
    "df.fillna(0)\n",
    "#df.isna().sum()"
   ]
  },
  {
   "cell_type": "code",
   "execution_count": 10,
   "metadata": {
    "scrolled": false
   },
   "outputs": [
    {
     "data": {
      "image/png": "[encoded data removed]",
      "text/plain": [
       "<Figure size 360x360 with 1 Axes>"
      ]
     },
     "metadata": {
      "needs_background": "light"
     },
     "output_type": "display_data"
    }
   ],
   "source": [
    "sns.lmplot(x='CHUS_RET',y='BZUS_RET',data=df)\n",
    "fit_reg=True\n",
    "hue='index'"
   ]
  },
  {
   "cell_type": "markdown",
   "metadata": {},
   "source": [
    "Do a linear regression and print results"
   ]
  },
  {
   "cell_type": "code",
   "execution_count": 11,
   "metadata": {
    "scrolled": true
   },
   "outputs": [
    {
     "name": "stdout",
     "output_type": "stream",
     "text": [
      "Intercept    0.000246\n",
      "CHUS_RET     0.815873\n",
      "dtype: float64\n",
      "                            OLS Regression Results                            \n",
      "==============================================================================\n",
      "Dep. Variable:               BZUS_RET   R-squared:                       0.075\n",
      "Model:                            OLS   Adj. R-squared:                  0.073\n",
      "Method:                 Least Squares   F-statistic:                     38.82\n",
      "Date:                Mon, 20 Jan 2020   Prob (F-statistic):           1.02e-09\n",
      "Time:                        18:49:05   Log-Likelihood:                 1642.7\n",
      "No. Observations:                 479   AIC:                            -3281.\n",
      "Df Residuals:                     477   BIC:                            -3273.\n",
      "Df Model:                           1                                         \n",
      "Covariance Type:            nonrobust                                         \n",
      "==============================================================================\n",
      "                 coef    std err          t      P>|t|      [0.025      0.975]\n",
      "------------------------------------------------------------------------------\n",
      "Intercept      0.0002      0.000      0.686      0.493      -0.000       0.001\n",
      "CHUS_RET       0.8159      0.131      6.231      0.000       0.559       1.073\n",
      "==============================================================================\n",
      "Omnibus:                       69.840   Durbin-Watson:                   2.008\n",
      "Prob(Omnibus):                  0.000   Jarque-Bera (JB):              298.208\n",
      "Skew:                          -0.561   Prob(JB):                     1.76e-65\n",
      "Kurtosis:                       6.699   Cond. No.                         365.\n",
      "==============================================================================\n",
      "\n",
      "Warnings:\n",
      "[1] Standard Errors assume that the covariance matrix of the errors is correctly specified.\n"
     ]
    }
   ],
   "source": [
    "import statsmodels.formula.api as sm\n",
    "result = sm.ols(formula='BZUS_RET ~ CHUS_RET', data=df).fit()\n",
    "print(result.params)\n",
    "print(result.summary())\n",
    "\n",
    "#R sq. of 0.075 means there is no explanatory power into the linear regression"
   ]
  },
  {
   "cell_type": "code",
   "execution_count": 21,
   "metadata": {},
   "outputs": [
    {
     "data": {
      "text/plain": [
       "0.8158731550297673"
      ]
     },
     "execution_count": 21,
     "metadata": {},
     "output_type": "execute_result"
    }
   ],
   "source": [
    "#We can compute Beta as ( Std1 * Corr12) / Std2 and get the same result as in the regression\n",
    "\n",
    "( df['BZUS_RET'].std() * df['BZUS_RET'].corr(df['CHUS_RET']) ) / df['CHUS_RET'].std()"
   ]
  },
  {
   "cell_type": "code",
   "execution_count": 23,
   "metadata": {},
   "outputs": [
    {
     "data": {
      "text/plain": [
       "0.0027446205975364246"
      ]
     },
     "execution_count": 23,
     "metadata": {},
     "output_type": "execute_result"
    }
   ],
   "source": [
    "df['CHUS_RET'].std()"
   ]
  }
 ],
 "metadata": {
  "kernelspec": {
   "display_name": "Python 3",
   "language": "python",
   "name": "python3"
  },
  "language_info": {
   "codemirror_mode": {
    "name": "ipython",
    "version": 3
   },
   "file_extension": ".py",
   "mimetype": "text/x-python",
   "name": "python",
   "nbconvert_exporter": "python",
   "pygments_lexer": "ipython3",
   "version": "3.7.4"
  }
 },
 "nbformat": 4,
 "nbformat_minor": 2
}
